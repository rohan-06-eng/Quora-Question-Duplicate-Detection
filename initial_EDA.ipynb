{
 "cells": [
  {
   "cell_type": "markdown",
   "id": "517bbdb0",
   "metadata": {},
   "source": [
    "## Description\n",
    "Where else but Quora can a physicist help a chef with a math problem and get cooking tips in return? Quora is a place to gain and share knowledge—about anything. It’s a platform to ask questions and connect with people who contribute unique insights and quality answers. This empowers people to learn from each other and to better understand the world.\n",
    "\n",
    "Over 100 million people visit Quora every month, so it's no surprise that many people ask similarly worded questions. Multiple questions with the same intent can cause seekers to spend more time finding the best answer to their question, and make writers feel they need to answer multiple versions of the same question. Quora values canonical questions because they provide a better experience to active seekers and writers, and offer more value to both of these groups in the long term.\n",
    "\n",
    "Currently, Quora uses a Random Forest model to identify duplicate questions. In this competition, Kagglers are challenged to tackle this natural language processing problem by applying advanced techniques to classify whether question pairs are duplicates or not. Doing so will make it easier to find high quality answers to questions resulting in an improved experience for Quora writers, seekers, and readers."
   ]
  },
  {
   "cell_type": "code",
   "execution_count": 1,
   "id": "600ccbe8",
   "metadata": {},
   "outputs": [],
   "source": [
    "import numpy as np\n",
    "import pandas as pd\n",
    "import seaborn as sns\n",
    "import matplotlib.pyplot as plt"
   ]
  },
  {
   "cell_type": "code",
   "execution_count": 2,
   "id": "60425156",
   "metadata": {},
   "outputs": [
    {
     "data": {
      "text/plain": [
       "(363861, 6)"
      ]
     },
     "execution_count": 2,
     "metadata": {},
     "output_type": "execute_result"
    }
   ],
   "source": [
    "df = pd.read_csv(\"train.csv\")\n",
    "df.shape"
   ]
  },
  {
   "cell_type": "code",
   "execution_count": 3,
   "id": "5a3d86b9",
   "metadata": {},
   "outputs": [
    {
     "data": {
      "text/html": [
       "<div>\n",
       "<style scoped>\n",
       "    .dataframe tbody tr th:only-of-type {\n",
       "        vertical-align: middle;\n",
       "    }\n",
       "\n",
       "    .dataframe tbody tr th {\n",
       "        vertical-align: top;\n",
       "    }\n",
       "\n",
       "    .dataframe thead th {\n",
       "        text-align: right;\n",
       "    }\n",
       "</style>\n",
       "<table border=\"1\" class=\"dataframe\">\n",
       "  <thead>\n",
       "    <tr style=\"text-align: right;\">\n",
       "      <th></th>\n",
       "      <th>id</th>\n",
       "      <th>qid1</th>\n",
       "      <th>qid2</th>\n",
       "      <th>question1</th>\n",
       "      <th>question2</th>\n",
       "      <th>is_duplicate</th>\n",
       "    </tr>\n",
       "  </thead>\n",
       "  <tbody>\n",
       "    <tr>\n",
       "      <th>132790</th>\n",
       "      <td>132790</td>\n",
       "      <td>212557</td>\n",
       "      <td>212558</td>\n",
       "      <td>What is the scope after B.Pharm completion?</td>\n",
       "      <td>What am I supposed to do after completing a Ph...</td>\n",
       "      <td>0</td>\n",
       "    </tr>\n",
       "    <tr>\n",
       "      <th>353555</th>\n",
       "      <td>353555</td>\n",
       "      <td>482634</td>\n",
       "      <td>482635</td>\n",
       "      <td>What are the best Radiohead B Side songs?</td>\n",
       "      <td>What are the best Radiohead songs?</td>\n",
       "      <td>0</td>\n",
       "    </tr>\n",
       "    <tr>\n",
       "      <th>326764</th>\n",
       "      <td>326764</td>\n",
       "      <td>266879</td>\n",
       "      <td>34591</td>\n",
       "      <td>Do women think about sex?</td>\n",
       "      <td>What do women think of sex?</td>\n",
       "      <td>0</td>\n",
       "    </tr>\n",
       "    <tr>\n",
       "      <th>138548</th>\n",
       "      <td>138548</td>\n",
       "      <td>220581</td>\n",
       "      <td>59325</td>\n",
       "      <td>I smoked meth and 96 hours later was given a u...</td>\n",
       "      <td>How long does meth stay detectable in the body...</td>\n",
       "      <td>0</td>\n",
       "    </tr>\n",
       "    <tr>\n",
       "      <th>160547</th>\n",
       "      <td>160547</td>\n",
       "      <td>250353</td>\n",
       "      <td>250354</td>\n",
       "      <td>How did Kakashi get the Sharingan?</td>\n",
       "      <td>What is better, Rinnegan or Sharingan?</td>\n",
       "      <td>0</td>\n",
       "    </tr>\n",
       "    <tr>\n",
       "      <th>110121</th>\n",
       "      <td>110121</td>\n",
       "      <td>6422</td>\n",
       "      <td>29371</td>\n",
       "      <td>What is the Sahara, and how do the average tem...</td>\n",
       "      <td>What is the Sahara, and how do the average tem...</td>\n",
       "      <td>1</td>\n",
       "    </tr>\n",
       "    <tr>\n",
       "      <th>355671</th>\n",
       "      <td>355671</td>\n",
       "      <td>241170</td>\n",
       "      <td>484914</td>\n",
       "      <td>How do I generate all possible substrings of a...</td>\n",
       "      <td>What are the approaches suitable to generate a...</td>\n",
       "      <td>1</td>\n",
       "    </tr>\n",
       "    <tr>\n",
       "      <th>259747</th>\n",
       "      <td>259747</td>\n",
       "      <td>375563</td>\n",
       "      <td>375564</td>\n",
       "      <td>Is it possible to turn Rs5000 into 10000 in on...</td>\n",
       "      <td>How can one earn 500 rupee everyday in stock m...</td>\n",
       "      <td>0</td>\n",
       "    </tr>\n",
       "    <tr>\n",
       "      <th>268489</th>\n",
       "      <td>268489</td>\n",
       "      <td>373330</td>\n",
       "      <td>189128</td>\n",
       "      <td>When will we know who is elected President?</td>\n",
       "      <td>When will we know the election results?</td>\n",
       "      <td>1</td>\n",
       "    </tr>\n",
       "    <tr>\n",
       "      <th>343050</th>\n",
       "      <td>343050</td>\n",
       "      <td>63676</td>\n",
       "      <td>75337</td>\n",
       "      <td>Is Hillary Clinton crazy enough to start a nuc...</td>\n",
       "      <td>Is there a high risk that President Hillary Cl...</td>\n",
       "      <td>1</td>\n",
       "    </tr>\n",
       "  </tbody>\n",
       "</table>\n",
       "</div>"
      ],
      "text/plain": [
       "            id    qid1    qid2  \\\n",
       "132790  132790  212557  212558   \n",
       "353555  353555  482634  482635   \n",
       "326764  326764  266879   34591   \n",
       "138548  138548  220581   59325   \n",
       "160547  160547  250353  250354   \n",
       "110121  110121    6422   29371   \n",
       "355671  355671  241170  484914   \n",
       "259747  259747  375563  375564   \n",
       "268489  268489  373330  189128   \n",
       "343050  343050   63676   75337   \n",
       "\n",
       "                                                question1  \\\n",
       "132790        What is the scope after B.Pharm completion?   \n",
       "353555          What are the best Radiohead B Side songs?   \n",
       "326764                          Do women think about sex?   \n",
       "138548  I smoked meth and 96 hours later was given a u...   \n",
       "160547                 How did Kakashi get the Sharingan?   \n",
       "110121  What is the Sahara, and how do the average tem...   \n",
       "355671  How do I generate all possible substrings of a...   \n",
       "259747  Is it possible to turn Rs5000 into 10000 in on...   \n",
       "268489        When will we know who is elected President?   \n",
       "343050  Is Hillary Clinton crazy enough to start a nuc...   \n",
       "\n",
       "                                                question2  is_duplicate  \n",
       "132790  What am I supposed to do after completing a Ph...             0  \n",
       "353555                 What are the best Radiohead songs?             0  \n",
       "326764                        What do women think of sex?             0  \n",
       "138548  How long does meth stay detectable in the body...             0  \n",
       "160547             What is better, Rinnegan or Sharingan?             0  \n",
       "110121  What is the Sahara, and how do the average tem...             1  \n",
       "355671  What are the approaches suitable to generate a...             1  \n",
       "259747  How can one earn 500 rupee everyday in stock m...             0  \n",
       "268489            When will we know the election results?             1  \n",
       "343050  Is there a high risk that President Hillary Cl...             1  "
      ]
     },
     "execution_count": 3,
     "metadata": {},
     "output_type": "execute_result"
    }
   ],
   "source": [
    "df.sample(10)"
   ]
  },
  {
   "cell_type": "code",
   "execution_count": 4,
   "id": "37b00141",
   "metadata": {},
   "outputs": [
    {
     "name": "stdout",
     "output_type": "stream",
     "text": [
      "<class 'pandas.core.frame.DataFrame'>\n",
      "RangeIndex: 363861 entries, 0 to 363860\n",
      "Data columns (total 6 columns):\n",
      " #   Column        Non-Null Count   Dtype \n",
      "---  ------        --------------   ----- \n",
      " 0   id            363861 non-null  int64 \n",
      " 1   qid1          363861 non-null  int64 \n",
      " 2   qid2          363861 non-null  int64 \n",
      " 3   question1     363860 non-null  object\n",
      " 4   question2     363859 non-null  object\n",
      " 5   is_duplicate  363861 non-null  int64 \n",
      "dtypes: int64(4), object(2)\n",
      "memory usage: 16.7+ MB\n"
     ]
    }
   ],
   "source": [
    "df.info()"
   ]
  },
  {
   "cell_type": "code",
   "execution_count": 5,
   "id": "c5b82789",
   "metadata": {},
   "outputs": [
    {
     "data": {
      "text/plain": [
       "id              0\n",
       "qid1            0\n",
       "qid2            0\n",
       "question1       1\n",
       "question2       2\n",
       "is_duplicate    0\n",
       "dtype: int64"
      ]
     },
     "execution_count": 5,
     "metadata": {},
     "output_type": "execute_result"
    }
   ],
   "source": [
    "# missing values\n",
    "df.isnull().sum()"
   ]
  },
  {
   "cell_type": "code",
   "execution_count": 6,
   "id": "e704abaf",
   "metadata": {},
   "outputs": [
    {
     "data": {
      "text/plain": [
       "0"
      ]
     },
     "execution_count": 6,
     "metadata": {},
     "output_type": "execute_result"
    }
   ],
   "source": [
    "# duplicate rows\n",
    "df.duplicated().sum()"
   ]
  },
  {
   "cell_type": "code",
   "execution_count": 16,
   "id": "3f9bd6af",
   "metadata": {},
   "outputs": [
    {
     "name": "stdout",
     "output_type": "stream",
     "text": [
      "is_duplicate\n",
      "0    228686\n",
      "1    135175\n",
      "Name: count, dtype: int64\n",
      "is_duplicate\n",
      "0    62.849825\n",
      "1    37.150175\n",
      "Name: count, dtype: float64\n"
     ]
    },
    {
     "data": {
      "text/plain": [
       "<Axes: xlabel='is_duplicate'>"
      ]
     },
     "execution_count": 16,
     "metadata": {},
     "output_type": "execute_result"
    },
    {
     "data": {
      "image/png": "[encoded data removed]",
      "text/plain": [
       "<Figure size 640x480 with 1 Axes>"
      ]
     },
     "metadata": {},
     "output_type": "display_data"
    }
   ],
   "source": [
    "# Distribution of duplicate and non-duplicate questions\n",
    "\n",
    "print(df['is_duplicate'].value_counts())\n",
    "print((df['is_duplicate'].value_counts()/df['is_duplicate'].count())*100)\n",
    "df['is_duplicate'].value_counts().plot(kind='bar')"
   ]
  },
  {
   "cell_type": "code",
   "execution_count": 8,
   "id": "788d2d08",
   "metadata": {},
   "outputs": [
    {
     "name": "stdout",
     "output_type": "stream",
     "text": [
      "Number of unique questions 493889\n",
      "Number of questions getting repeated 98895\n"
     ]
    }
   ],
   "source": [
    "# Repeated questions\n",
    "\n",
    "qid = pd.Series(df['qid1'].tolist() + df['qid2'].tolist())\n",
    "print('Number of unique questions',np.unique(qid).shape[0])\n",
    "x = qid.value_counts()>1\n",
    "print('Number of questions getting repeated',x[x].shape[0])"
   ]
  },
  {
   "cell_type": "code",
   "execution_count": 18,
   "id": "2fa5bb83",
   "metadata": {},
   "outputs": [
    {
     "data": {
      "image/png": "[encoded data removed]",
      "text/plain": [
       "<Figure size 640x480 with 1 Axes>"
      ]
     },
     "metadata": {},
     "output_type": "display_data"
    }
   ],
   "source": [
    "# Repeated questions histogram\n",
    "\n",
    "plt.hist(qid.value_counts().values,bins=160)\n",
    "plt.yscale('log')\n",
    "plt.show()"
   ]
  }
 ],
 "metadata": {
  "kernelspec": {
   "display_name": "base",
   "language": "python",
   "name": "python3"
  },
  "language_info": {
   "codemirror_mode": {
    "name": "ipython",
    "version": 3
   },
   "file_extension": ".py",
   "mimetype": "text/x-python",
   "name": "python",
   "nbconvert_exporter": "python",
   "pygments_lexer": "ipython3",
   "version": "3.12.7"
  }
 },
 "nbformat": 4,
 "nbformat_minor": 5
}
